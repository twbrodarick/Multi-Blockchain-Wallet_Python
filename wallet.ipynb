{
 "cells": [
  {
   "cell_type": "code",
   "execution_count": 117,
   "metadata": {},
   "outputs": [],
   "source": [
    "import subprocess\n",
    "import json\n",
    "import os\n",
    "from constants import *\n",
    "from bit import wif_to_key, PrivateKeyTestnet\n",
    "from bit.network import NetworkAPI\n",
    "from web3 import Web3\n",
    "from web3.middleware import geth_poa_middleware\n",
    "from eth_account import Account"
   ]
  },
  {
   "cell_type": "code",
   "execution_count": 118,
   "metadata": {},
   "outputs": [],
   "source": [
    "w3 = Web3(Web3.HTTPProvider(\"https://kovan.infura.io/v3/1fa351728e874efcac3aabd55f70a089\"))\n",
    "mnem = os.getenv('MNEMONIC')\n",
    "php = 'php.exe ./hd-wallet-derive/hd-wallet-derive.php'"
   ]
  },
  {
   "cell_type": "code",
   "execution_count": 119,
   "metadata": {},
   "outputs": [],
   "source": [
    "def derive_wallets(mnemonic, coin, numderive):\n",
    "    cmd = f'{php} -g --mnemonic={mnem} --numderive='+str(numderive)+' --coin='+str(coin)+' --cols=all --format=jsonpretty'   \n",
    "    p = subprocess.Popen(cmd, stdout=subprocess.PIPE, shell=True)\n",
    "    (output, err) = p.communicate()\n",
    "    return json.loads(output) \n",
    "\n",
    "coins = {'eth':derive_wallets(mnemonic=mnem,coin=ETH,numderive=3),'btc-test': derive_wallets(mnemonic=mnem,coin=BTCTEST,numderive=3)}\n",
    "\n",
    "privkey_BTCTEST = coins['btc-test'][0]['privkey']\n",
    "privkey_ETH = coins['eth'][0]['privkey']"
   ]
  },
  {
   "cell_type": "code",
   "execution_count": 120,
   "metadata": {},
   "outputs": [],
   "source": [
    "def priv_key_to_account(coin, privkey):\n",
    "    if coin == ETH:\n",
    "        return Account.privateKeyToAccount(privkey)\n",
    "    if coin == BTCTEST:\n",
    "        return PrivateKeyTestnet(privkey)\n",
    "\n",
    "ETH_account = priv_key_to_account(ETH, privkey_ETH)\n",
    "BTCTEST_account = priv_key_to_account(BTCTEST, privkey_BTCTEST)\n",
    "\n",
    "                                                               "
   ]
  },
  {
   "cell_type": "code",
   "execution_count": 121,
   "metadata": {},
   "outputs": [],
   "source": [
    "def create_tx(coin, account, to, amount):\n",
    "    if coin == ETH:\n",
    "        gasEstimate = w3.eth.estimateGas({\"from\": account.address, \"to\": to, \"value\":amount})\n",
    "        \n",
    "        tx = {\n",
    "        \"from\": account.address,\n",
    "        \"to\": to,\n",
    "        \"value\": amount,\n",
    "        \"gas\":  gasEstimate,\n",
    "        \"gasPrice\": w3.eth.gasPrice,\n",
    "        \"nonce\": w3.eth.getTransactionCount(account.address),\n",
    "        \"chainId\": 42\n",
    "        }\n",
    "        \n",
    "        return tx\n",
    "    \n",
    "    if coin == BTCTEST:\n",
    "        \n",
    "        return PrivateKeyTestnet.prepare_transaction(account.address, [(to, amount, BTC)])"
   ]
  },
  {
   "cell_type": "code",
   "execution_count": 122,
   "metadata": {},
   "outputs": [],
   "source": [
    "def send_tx(coin, account, to, amount):\n",
    "    if coin == ETH:\n",
    "        init_tx = create_tx(coin, account, to, amount)\n",
    "        signed_tx = account.sign_transaction(init_tx)\n",
    "        return w3.eth.sendRawTransaction(signed_tx.rawTransaction).hex()\n",
    "    \n",
    "    if coin == BTCTEST:   \n",
    "        init_tx = create_tx(coin, account, to, amount)\n",
    "        signed_tx = account.sign_transaction(init_tx)      \n",
    "        return NetworkAPI.broadcast_tx_testnet(signed_tx)\n"
   ]
  },
  {
   "cell_type": "code",
   "execution_count": 123,
   "metadata": {},
   "outputs": [],
   "source": [
    "send_tx(BTCTEST,BTCTEST_account,'mvUyjXK5HE6oMwqbKcBsXxFuqMyYdd3T6P', 0.000001)"
   ]
  },
  {
   "cell_type": "markdown",
   "metadata": {},
   "source": [
    "## "
   ]
  },
  {
   "cell_type": "code",
   "execution_count": 126,
   "metadata": {},
   "outputs": [
    {
     "data": {
      "text/plain": [
       "['626aa7c2c1a759232e34432be1188d945dc45d345c7920e726437b994ba3e0d9',\n",
       " '955cf92615f38d813583a54dfe44b35e1c2e5014103e9a314c96495421d47313',\n",
       " 'd364999a267539d3facff754e06cbc83a1e6b4f993a4e3ef0f3d0f6e4d942d64',\n",
       " 'f1753cae05d885d7b69ac362bc13b0e0f3eafee70ffe376e60a4f95e3fad9cc4',\n",
       " '8e6bfe81fd7c9f255abeac1871400a744371e18781ce09fb9d87ee44851cf862',\n",
       " '2bcca61eb50a1af9530ac8b5e394335649a3cefe91930e8d8894e5434a9d0f81',\n",
       " '36d1a4f591277b2cbe13d891ac87d377a79e8c0aa5b47d4e88d656fdcb974f56',\n",
       " '0fe18b453e122840fa39038b1e820bee2f0ae6902e3130d4390c316fdfe35fcf',\n",
       " '6a28bb662ca3b5f7e9b9e8d6df50d2d618e52bd6b44acecf1a04ea1abd7bea78',\n",
       " '13a9d28869cbba711f97908459af0e2c1651b586ca9d6a34c1880b4f859d3508',\n",
       " '99cc16e2bf2c25a11fd230093d8fc0191330ad81c7ac5f74eaa7ccd6a2459fd4',\n",
       " '661fe5121c1fcdeb28e5b646eafc33c73af9f053902d7090b30146893df260c4',\n",
       " '8fc6dacb6cfa33ba84dc843f31466be15f3cdb9837193c6e87e9e8da72893ade',\n",
       " '1634a5f44e3579b6d45e8abdd89b16fdd0ec983238f0d973c4fe1095c57a79cd',\n",
       " '3317876aa0b77eae2134c597b6122ac0072daf6ab8f52abd1129d75a49b79ffe',\n",
       " '8d668f35d275cc441bfd60006abe2cf22e50d2dd1a9488b9930662365c6d5c14',\n",
       " 'fbf08ba630c6e6d9b76fd961f471a727fcbccdac2cd1905845091a542ec9e0a5',\n",
       " '7bbdab35aaf470283ef4dc86ecd73ea13db8f66689970d5ad54c3ee3170ea138',\n",
       " 'e33627267cd57060e5d6ff618f711c1b5c0481de5d2c0ca2d973cb736e1577ec',\n",
       " 'cce298ad6f9235aa2f4f26cbdb04f9247d5be914035e5aa39fafa829b7483743',\n",
       " '800b1408ab82ee3e1b00e50ac644dc4c1f4df7a0ab2755552616bb78d7ad9f70',\n",
       " '646ed1aafb1e94c949a5fc864d820be9903191ca0420106047e86b0cff581602',\n",
       " '6c72a7ebb08417d45e525261166c8bfb0e17f0e0d0513e88cf28ced3d20cae2f',\n",
       " '71adf9e775d11313a513d76d711f0b1350ae17f9bb157bb65a28086cd473b7aa',\n",
       " 'a2faf2e9d2c78ad4d451d1fee76b5478540763e4703e8132d450c9e33fe75fa8',\n",
       " 'c9e0a3659fbb7f5b4853a51190b2745e6061456a3122d1798afb90fb8c586af2',\n",
       " '7e35cc6e0fbb7dce1184a276eb3da04f1fc0689e485903f3c335aad475c15952',\n",
       " '3f7255be0a380d21c123cdbb9368bd84bccaa662bcc6301a080193bfcf4083b3',\n",
       " '183d6bc256c6a77a66ed6625200ffacbf08b80aaa6b18305ff38e3027dfeefb4',\n",
       " 'bec823537c455bca2435eab66940d4f6e535719f627fe48097f48feaa4d100ad',\n",
       " '3c0efd997836e1d5aeedc41f2748a9a86293742a65372065ee9082c12b859c85',\n",
       " '047e0f7e96e2e4c65be4a3c30dd05279487e52c2e147bb8c275b34c32469f717',\n",
       " '3fd5bf7e36499d4ec4a65e8274f92273165aa0cfeeef197a331b6bb15cc06fca',\n",
       " 'a87aa337315d2208d3ca714ebd0c40d5e21ef4132a4c774c251eb34238a4831b',\n",
       " 'ca35927ea1c7980d7ed3214e96a71e5fe3d762a67f68ef6a70db954ec20cafc3',\n",
       " '9ca496755365ba5d904a76bea0f920c0122249e1e942c71748da0b1569e22523',\n",
       " 'b964015206f1f5a5e5b72309dbc58aad6b5805e2e21ccc273843dc81260e05a9',\n",
       " '1809289385909fb90947f126253cb06b86717f153f18e54d691a09c81e1154ce',\n",
       " '9508f8b5a111667123e945d0130a044c0767d1602703d54e613546f486f6dded',\n",
       " '1840fb8f7aa177aad515a92dc32ac7f3291c93557c110744fac8cad151fab4a9',\n",
       " '3b5a22e00e24bb7a5cdabf452da4daa1168f4fecc31fdc1c2450df96faf589c8',\n",
       " 'bff2e4487bd5cee017622f04c7ddb1b8327363fa4952bb0bf2a649401d1a4ac3']"
      ]
     },
     "execution_count": 126,
     "metadata": {},
     "output_type": "execute_result"
    }
   ],
   "source": [
    "BTCTEST_account.get_transactions()\n"
   ]
  },
  {
   "cell_type": "code",
   "execution_count": 127,
   "metadata": {},
   "outputs": [
    {
     "data": {
      "text/plain": [
       "'0xf26d254527912d82729cc6e35a454326c6f15fb5db44c30c044b482b67014baf'"
      ]
     },
     "execution_count": 127,
     "metadata": {},
     "output_type": "execute_result"
    }
   ],
   "source": [
    "send_tx(ETH, ETH_account, '0x3217c2f345FB50D5B939E6F6fd264e7d77324644', 5)\n"
   ]
  },
  {
   "cell_type": "code",
   "execution_count": 128,
   "metadata": {},
   "outputs": [
    {
     "data": {
      "text/plain": [
       "236084747999999995"
      ]
     },
     "execution_count": 128,
     "metadata": {},
     "output_type": "execute_result"
    }
   ],
   "source": [
    "w3.eth.getBalance(ETH_account.address)"
   ]
  },
  {
   "cell_type": "code",
   "execution_count": null,
   "metadata": {},
   "outputs": [],
   "source": []
  },
  {
   "cell_type": "code",
   "execution_count": null,
   "metadata": {},
   "outputs": [],
   "source": []
  }
 ],
 "metadata": {
  "kernelspec": {
   "display_name": "Python PyViz",
   "language": "python",
   "name": "pyviz"
  },
  "language_info": {
   "codemirror_mode": {
    "name": "ipython",
    "version": 3
   },
   "file_extension": ".py",
   "mimetype": "text/x-python",
   "name": "python",
   "nbconvert_exporter": "python",
   "pygments_lexer": "ipython3",
   "version": "3.7.7"
  }
 },
 "nbformat": 4,
 "nbformat_minor": 4
}
